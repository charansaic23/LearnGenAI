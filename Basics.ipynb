{
  "nbformat": 4,
  "nbformat_minor": 0,
  "metadata": {
    "colab": {
      "provenance": [],
      "authorship_tag": "ABX9TyNGfp3f+hc6gKYkmiMLpQ7/",
      "include_colab_link": true
    },
    "kernelspec": {
      "name": "python3",
      "display_name": "Python 3"
    },
    "language_info": {
      "name": "python"
    }
  },
  "cells": [
    {
      "cell_type": "markdown",
      "metadata": {
        "id": "view-in-github",
        "colab_type": "text"
      },
      "source": [
        "<a href=\"https://colab.research.google.com/github/charansaic23/LearnGenAI/blob/main/Basics.ipynb\" target=\"_parent\"><img src=\"https://colab.research.google.com/assets/colab-badge.svg\" alt=\"Open In Colab\"/></a>"
      ]
    },
    {
      "cell_type": "markdown",
      "source": [
        "\n",
        "* Generative AI is a type of AI that generates images, text, videos and other media in response to inputted prompts. Genrative AI models evolves as it continues to train on more data.\n",
        "* It operates on AI models and algorithms that are trained on large unlabeled data sets, which require complex math and lots of computing power to create.\n",
        "\n",
        "* Generative AI models use neural networks to identify patterns in existing data to generate new content. Trained on unsupervised and semi-supervised learning approaches, organizations can create foundation models from large, unlabeled data sets, essentially forming a base for AI systems to perform tasks.\n",
        "\n",
        "\n",
        "\n",
        "\n",
        "\n",
        "\n",
        "\n"
      ],
      "metadata": {
        "id": "fcww1rXl6sWG"
      }
    },
    {
      "cell_type": "markdown",
      "source": [
        "**Large Language Models (LLM)**"
      ],
      "metadata": {
        "id": "0607ec767kHi"
      }
    },
    {
      "cell_type": "markdown",
      "source": [
        "\n",
        "*  Large Language models are very large deep learning models that are pre-trained on vast amounts of data and generates human-like language using a transformer architecture.\n",
        "*  The underlying transformer is a set of neural networks that consist of an encoder and a decoder with self-attention capabilities. The encoder and decoder extract meanings from a sequence of text and understand the relationships between words and phrases in it.\n",
        "*   Transformer neural network architecture allows the use of very large models, often with hundreds of billions of parameters. Such large-scale models can ingest massive amounts of data, often from the internet\n",
        "*   Transformer LLMs are capable of unsupervised training, although a more precise explanation is that transformers perform self-learning. It is through this process that transformers learn to understand basic grammar, languages, and knowledge.\n",
        "*   Large language models are incredibly flexible. One model can perform completely different tasks such as answering questions, summarizing documents, translating languages and completing sentences.\n",
        "*    LLMs can be used for generative AI to produce content based on input prompts in human language.\n",
        "\n",
        "\n",
        "\n",
        "\n",
        "\n",
        "\n"
      ],
      "metadata": {
        "id": "GMiFRqnfAQYU"
      }
    },
    {
      "cell_type": "markdown",
      "source": [],
      "metadata": {
        "id": "Zkq0-kkNCmA1"
      }
    }
  ]
}